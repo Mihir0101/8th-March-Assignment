{
 "cells": [
  {
   "cell_type": "markdown",
   "id": "2c49e1d3-1113-4019-8e23-d904eb46b010",
   "metadata": {},
   "source": [
    "# 8th March Statistics Assignment"
   ]
  },
  {
   "cell_type": "code",
   "execution_count": null,
   "id": "de7bb66a-b3da-4a37-8652-ec923fa15a71",
   "metadata": {},
   "outputs": [],
   "source": []
  },
  {
   "cell_type": "markdown",
   "id": "21f9a0a4-3f28-49f5-845b-3a979cfaad75",
   "metadata": {},
   "source": [
    "Q1. What is the Probability density function?"
   ]
  },
  {
   "cell_type": "markdown",
   "id": "725afbdf-8ddf-4d54-892c-fd01bbc32e0e",
   "metadata": {},
   "source": [
    "-> Prabability density function is a type of probability distribution function.\n",
    "\n",
    "-> It is used to distribute continuous random variables.\n",
    "\n",
    "-> The area under the curve is 1.\n",
    "\n",
    "-> It is also use to find the probability.\n",
    "\n",
    "-> We need slop and gradiant to find proabability through probability density finction.\n",
    "\n",
    "-> Eg.,Heights of students in class."
   ]
  },
  {
   "cell_type": "code",
   "execution_count": null,
   "id": "c0314601-e327-4928-aad0-537a838697e2",
   "metadata": {},
   "outputs": [],
   "source": []
  },
  {
   "cell_type": "markdown",
   "id": "a7eac6b8-9d67-4e0f-8d96-37f852d7f993",
   "metadata": {},
   "source": [
    "Q2. What are the types of Probability distribution?"
   ]
  },
  {
   "cell_type": "markdown",
   "id": "2724b6b1-85b3-43be-8edf-18b2b273d968",
   "metadata": {},
   "source": [
    "-> There is many types of Prabability distribution.\n",
    "\n",
    "1. Bernouli Distribution\n",
    "\n",
    "-> It is used to distribute discrete random variable.\n",
    "\n",
    "-> We use PMF function for bernouli distribution.\n",
    "\n",
    "-> The outcome of it is binary.{0,1}where 1 stands for success and 0 stands for failure.\n",
    "\n",
    "-> Notation : Ber(P),where P stands for probability.\n",
    "\n",
    "-> PMF : P(X = k) = p^k * (1 - p)^(1 - k)"
   ]
  },
  {
   "cell_type": "markdown",
   "id": "e0ce8fde-3ae3-4907-b35d-c1c64263fe2f",
   "metadata": {},
   "source": [
    "2. Binomial Distribution\n",
    "\n",
    "-> It is used to distribute discrete random variable.\n",
    "\n",
    "-> We use PMF function for bernouli distribution.\n",
    "\n",
    "-> We can say that,we take multipule bernouli outcomes.\n",
    "\n",
    "-> Notation : B(n,p)\n",
    "\n",
    "-> PMF : P(X = k) = (n choose k) * p^k * (1 - p)^(n - k)"
   ]
  },
  {
   "cell_type": "markdown",
   "id": "ae5ba5a7-ff29-4104-9315-dd478b40c17d",
   "metadata": {},
   "source": [
    "3. Poisson Distribution\n",
    "\n",
    "-> It is used to distribute continuous random variable.\n",
    "\n",
    "-> It describe the probability of events occur in perticular time interval with the help of expected data.\n",
    "\n",
    "-> Notation : Poi(λ)\n",
    "\n",
    "-> PDF : P(X = x) = (e^(-λ) * λ^x) / x!"
   ]
  },
  {
   "cell_type": "markdown",
   "id": "c948e419-ab61-40b1-8f21-615a99fd6835",
   "metadata": {},
   "source": [
    "4. Normal or Guassian Distribution\n",
    "\n",
    "-> Continuous Probability Distibution.\n",
    "\n",
    "-> Use PDF function.\n",
    "\n",
    "-> Notation : N(μ, σ^2)\n",
    "\n",
    "-> PDF : f(x) = (1 / σ(sqrt(2π))) * e^-1/2 * (x-μ/σ)^2             "
   ]
  },
  {
   "cell_type": "markdown",
   "id": "f23f5879-1f70-4e83-8827-e13954f778d6",
   "metadata": {},
   "source": [
    "5. Uniform Distribution\n",
    "\n",
    "-> There is two types of uniform distribution : (i) Continuous Uniform Distribution & (ii) Discrete Uniform Distribution\n",
    "\n",
    "-> In this distribution outcome lies between two bounds.\n",
    "\n",
    "* (i) Continuous Uniform Distribution\n",
    "\n",
    "-> The bounds are define by a and b,which are minimum and maximum.\n",
    "\n",
    "-> Notation : U(a,b)\n",
    "\n",
    "-> PDF : 1/b-a\n",
    "\n",
    "* (ii) Discrete Uniform Distribution\n",
    "\n",
    "-> Notation : U(a,b)\n",
    "\n",
    "-> PMF : 1/n,where n=b-a+1"
   ]
  },
  {
   "cell_type": "code",
   "execution_count": null,
   "id": "39c8e336-1e11-47d1-81ce-2cd863785a15",
   "metadata": {},
   "outputs": [],
   "source": []
  },
  {
   "cell_type": "markdown",
   "id": "b018c017-1f8b-4bc0-92a0-1c96a3eb19f0",
   "metadata": {},
   "source": [
    "Q3. Write a Python function to calculate the probability density function of a normal distribution with given mean and standard deviation at a given point."
   ]
  },
  {
   "cell_type": "code",
   "execution_count": 10,
   "id": "080357da-0394-456b-85f1-87787f86d630",
   "metadata": {},
   "outputs": [],
   "source": [
    "import math\n",
    "\n",
    "def gaussian_pdf(x,sd,mean):\n",
    "    \n",
    "    first = 1 / (sd * math.sqrt(2 * math.pi))\n",
    "\n",
    "    second = -(x - mean)**2 / ( 2 * ( sd**2 ))\n",
    "\n",
    "    pdf = first * math.exp(second)\n",
    "\n",
    "    return pdf"
   ]
  },
  {
   "cell_type": "code",
   "execution_count": 11,
   "id": "b815feb5-65a5-4b24-b7b5-b6224c0b8972",
   "metadata": {},
   "outputs": [
    {
     "data": {
      "text/plain": [
       "0.26569603783708196"
      ]
     },
     "execution_count": 11,
     "metadata": {},
     "output_type": "execute_result"
    }
   ],
   "source": [
    "gaussian_pdf(2.5,1.41,3)"
   ]
  },
  {
   "cell_type": "code",
   "execution_count": null,
   "id": "bc4c3e2e-90ed-40e2-a2e6-f318c0fc75b2",
   "metadata": {},
   "outputs": [],
   "source": []
  },
  {
   "cell_type": "markdown",
   "id": "761d7fa5-8b3b-416c-be6f-227a6e4b6499",
   "metadata": {},
   "source": [
    "Q4. What are the properties of Binomial distribution? Give two examples of events where binomial distribution can be applied."
   ]
  },
  {
   "cell_type": "markdown",
   "id": "90bb6d82-6aff-4717-85a4-ec5a6ad63533",
   "metadata": {},
   "source": [
    "* Properties of Binomial Distribution\n",
    "\n",
    "-> Every outcome is binary.\n",
    "\n",
    "-> We can perform it for n trails.\n",
    "\n",
    "-> The outcome of it can either success or failure.\n",
    "\n",
    "-> Each trails are idependent to each other."
   ]
  },
  {
   "cell_type": "markdown",
   "id": "0c3a5704-d9ce-42c5-b1aa-9d07c63fdbe7",
   "metadata": {},
   "source": [
    "* Events\n",
    "\n",
    "(1) Coin Flip\n",
    "\n",
    "(2) Checking True & False in exam paper\n",
    "\n",
    "(3) In cricket every delivery of ball is fare or not in one over."
   ]
  },
  {
   "cell_type": "code",
   "execution_count": null,
   "id": "0338a2fc-8689-48f7-83dc-1b5170dbebce",
   "metadata": {},
   "outputs": [],
   "source": []
  },
  {
   "cell_type": "markdown",
   "id": "20f2555d-df22-405a-aaf6-e886ab8a583a",
   "metadata": {},
   "source": [
    "Q5. Generate a random sample of size 1000 from a binomial distribution with probability of success 0.4 and plot a histogram of the results using matplotlib."
   ]
  },
  {
   "cell_type": "code",
   "execution_count": 14,
   "id": "6450d1f6-01c4-43d2-81b4-73160f755839",
   "metadata": {},
   "outputs": [],
   "source": [
    "import numpy as np\n",
    "import matplotlib.pyplot as plt"
   ]
  },
  {
   "cell_type": "code",
   "execution_count": 17,
   "id": "f21d6d05-dd84-4739-8b96-6fd7ccdc34f5",
   "metadata": {},
   "outputs": [],
   "source": [
    "n=1000\n",
    "p=0.4"
   ]
  },
  {
   "cell_type": "code",
   "execution_count": 23,
   "id": "33784237-4cc2-45c7-a943-7b336013f19f",
   "metadata": {},
   "outputs": [],
   "source": [
    "x=np.random.binomial(n,p,size=1000)"
   ]
  },
  {
   "cell_type": "code",
   "execution_count": 24,
   "id": "8aedeb16-fb1d-4a42-91ca-a720ce32854d",
   "metadata": {},
   "outputs": [
    {
     "data": {
      "image/png": "[encoded data removed]",
      "text/plain": [
       "<Figure size 640x480 with 1 Axes>"
      ]
     },
     "metadata": {},
     "output_type": "display_data"
    }
   ],
   "source": [
    "plt.hist(x,bins=25)\n",
    "plt.xlabel('X-Side')\n",
    "plt.ylabel('Y-Side')\n",
    "plt.title('Histogram of Binomial Distribution')\n",
    "plt.show()"
   ]
  },
  {
   "cell_type": "code",
   "execution_count": null,
   "id": "f17da3c5-c0bb-4ab8-87a9-2a11432bf30a",
   "metadata": {},
   "outputs": [],
   "source": []
  },
  {
   "cell_type": "markdown",
   "id": "8c8f1af2-cc11-4ba5-a2f0-85b6b235627b",
   "metadata": {},
   "source": [
    "Q6. Write a Python function to calculate the cumulative distribution function of a Poisson distribution with given mean at a given point."
   ]
  },
  {
   "cell_type": "code",
   "execution_count": 34,
   "id": "51ad00de-608b-4d0c-9008-fcd8afc0372f",
   "metadata": {},
   "outputs": [],
   "source": [
    "import math\n",
    "\n",
    "def poisson_cdf(mean,x):\n",
    "    \n",
    "    cdf=math.exp(-mean) * (mean**x) / math.factorial(x)\n",
    "    \n",
    "    return cdf\n"
   ]
  },
  {
   "cell_type": "code",
   "execution_count": 36,
   "id": "a534e8cd-c33d-4a3e-8da6-dff91bd1fe51",
   "metadata": {},
   "outputs": [
    {
     "data": {
      "text/plain": [
       "0.16803135574154082"
      ]
     },
     "execution_count": 36,
     "metadata": {},
     "output_type": "execute_result"
    }
   ],
   "source": [
    "poisson_cdf(3,4)"
   ]
  },
  {
   "cell_type": "code",
   "execution_count": null,
   "id": "8030a04e-4aad-4a93-96bb-505b4f4782c1",
   "metadata": {},
   "outputs": [],
   "source": []
  },
  {
   "cell_type": "markdown",
   "id": "9f7c8e1a-7f08-43a9-ab04-5ad432f5342e",
   "metadata": {},
   "source": [
    "Q7. How Binomial distribution different from Poisson distribution?"
   ]
  },
  {
   "cell_type": "markdown",
   "id": "36998c71-1aed-4637-a554-78db8045c060",
   "metadata": {},
   "source": [
    "-> In the binomial distribution number of success is  independent which is denoted by n and on other hand poissan distribution denotes that the number of events occur in fixed      time interval,which expicitly denotes the number of trailes.\n",
    "\n",
    "-> The outcomes are binary{succsses,failure} in binomial distribution and the outcomes in poisson distribution are discrete.\n",
    "\n",
    "-> The probability of success remains same for each trailes in binomial distribution and poisson distribution does not have probability parameter."
   ]
  },
  {
   "cell_type": "code",
   "execution_count": null,
   "id": "aae53493-7b40-4d0b-8e80-82460ff7526b",
   "metadata": {},
   "outputs": [],
   "source": []
  },
  {
   "cell_type": "markdown",
   "id": "70ddefe8-87a2-49d5-b254-35c34b37f96c",
   "metadata": {},
   "source": [
    "Q8. Generate a random sample of size 1000 from a Poisson distribution with mean 5 and calculate the sample mean and variance."
   ]
  },
  {
   "cell_type": "code",
   "execution_count": 47,
   "id": "8cbe5d5d-e45a-42da-a9c6-9e73c069413a",
   "metadata": {},
   "outputs": [],
   "source": [
    "v = np.random.poisson(5,size=1000)"
   ]
  },
  {
   "cell_type": "code",
   "execution_count": 43,
   "id": "ffe78b55-82eb-49bc-a26a-f207514ec404",
   "metadata": {},
   "outputs": [
    {
     "data": {
      "text/plain": [
       "5.144"
      ]
     },
     "execution_count": 43,
     "metadata": {},
     "output_type": "execute_result"
    }
   ],
   "source": [
    "Ave = np.mean(v)\n",
    "Ave"
   ]
  },
  {
   "cell_type": "code",
   "execution_count": 44,
   "id": "ee445d4f-b64e-4522-8c54-3c0c7b4f79f4",
   "metadata": {},
   "outputs": [
    {
     "data": {
      "text/plain": [
       "5.401264"
      ]
     },
     "execution_count": 44,
     "metadata": {},
     "output_type": "execute_result"
    }
   ],
   "source": [
    "Variance = np.var(v)\n",
    "Variance"
   ]
  },
  {
   "cell_type": "code",
   "execution_count": null,
   "id": "55e11066-f74e-4008-b4ab-8b8894f3e78c",
   "metadata": {},
   "outputs": [],
   "source": []
  },
  {
   "cell_type": "markdown",
   "id": "c31ed5b5-6971-4420-8c58-7b7c1605dcaf",
   "metadata": {},
   "source": [
    "Q9. How mean and variance are related in Binomial distribution and Poisson distribution?"
   ]
  },
  {
   "cell_type": "markdown",
   "id": "b8ae381d-090e-4a6e-bc64-e90352fc8c3f",
   "metadata": {},
   "source": [
    "* Binomial Distribution\n",
    "\n",
    "Mean = n * p\n",
    "\n",
    "Variance = n * p * q\n",
    "\n",
    "-> In the binomial distribution mean describes the expected number of success for n trails and the variance measures the spread of distribution."
   ]
  },
  {
   "cell_type": "markdown",
   "id": "8dc2d029-a15a-4c1f-b0f7-0836e2c5a11d",
   "metadata": {},
   "source": [
    "* Poisson Distribution\n",
    "\n",
    "Mean =  λ * t , where t = time interval\n",
    "\n",
    "Variance = Mean\n",
    "\n",
    "-> Mean and variance are equal in poisson ditribution.The mean and variance both measures the average of events."
   ]
  },
  {
   "cell_type": "code",
   "execution_count": null,
   "id": "254e95d9-32f4-41ec-bdd5-421500218e81",
   "metadata": {},
   "outputs": [],
   "source": []
  },
  {
   "cell_type": "markdown",
   "id": "6f04f22a-2fab-4955-9a21-c737810e6ab6",
   "metadata": {},
   "source": [
    "Q10. In normal distribution with respect to mean position, where does the least frequent data appear?"
   ]
  },
  {
   "cell_type": "markdown",
   "id": "4771a33e-a15c-4b82-97c1-b1de8c9c1658",
   "metadata": {},
   "source": [
    "-> In normal distribution with respect to mean position, where does the least frequent data appear"
   ]
  }
 ],
 "metadata": {
  "kernelspec": {
   "display_name": "Python 3 (ipykernel)",
   "language": "python",
   "name": "python3"
  },
  "language_info": {
   "codemirror_mode": {
    "name": "ipython",
    "version": 3
   },
   "file_extension": ".py",
   "mimetype": "text/x-python",
   "name": "python",
   "nbconvert_exporter": "python",
   "pygments_lexer": "ipython3",
   "version": "3.10.8"
  }
 },
 "nbformat": 4,
 "nbformat_minor": 5
}
